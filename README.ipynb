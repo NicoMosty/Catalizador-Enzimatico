{
 "cells": [
  {
   "cell_type": "markdown",
   "metadata": {},
   "source": [
    "<h1 align=\"center\">\n",
    "    Transferencia simultánea de masa & reacción bioquímica en el soporte esférico\n",
    "</h1>\n",
    "\n",
    "A continuación se muestra la ecuación diferencial que representa la transferencia simultanea de masa y reacción química dentro del biocatalizador enzimático, donde:\n",
    "\n",
    "$$\n",
    "\\begin{equation}\\tag{1}\n",
    "    \\frac{d^{2} S}{dr^{2}} +\\frac{dS}{dr}\\frac{2}{r} -\\phi ^{2}\\frac{\\beta *S}{\\beta +S} =0\n",
    "\\end{equation}\n",
    "$$\n",
    "\n",
    "Para el caso del radio inicial ($r=0$)\n",
    "\n",
    "$$\n",
    "\\begin{equation}\\tag{2}\n",
    "    3\\frac{d^{2} S}{dr^{2}} -\\phi ^{2}\\frac{\\beta *S}{\\beta +S} =0\n",
    "\\end{equation}\n",
    "$$\n",
    "\n",
    "Para poder hallar la distribución se utiliza la siguiente distribución con tablas, donde: \n",
    "\n",
    "\n",
    "<div align=\"center\"><img style=\"background: white;\" src=\"..\\eq\\Screenshot_1.png\"></div>\n",
    "\n",
    "Se puede ver en la tabla que se supone un valor de $S_o$ (naranja) y se modifica hasta que el valor en $S|_{r=R}$ sea igual a 1.\n",
    "\n",
    "Para hacer lo anterior se definen los siguientes invervalos de 𝛽 y 𝜙, donde:\n",
    "\n",
    "$$\n",
    "\\begin{equation}\\tag{3}\n",
    "    \\beta=[0.01,0.05,0.1,0.5,1,5,10]\n",
    "\\end{equation}\n",
    "$$\n",
    "$$\n",
    "\\begin{equation}\\tag{4}\n",
    "    \\phi=[1,2,3,5,10,20,25,50,75,100]\n",
    "\\end{equation}\n",
    "$$\n",
    "\n",
    "Para poder realizar el calculo se definió un $dr=5E-4$"
   ]
  }
 ],
 "metadata": {
  "interpreter": {
   "hash": "0f6f699ad338ffe0d05d8f36f773d285b542cf5240817e242fe791c6733846a7"
  },
  "kernelspec": {
   "display_name": "Python 3.10.2 64-bit (windows store)",
   "language": "python",
   "name": "python3"
  },
  "language_info": {
   "name": "python",
   "version": "3.10.2"
  },
  "orig_nbformat": 4
 },
 "nbformat": 4,
 "nbformat_minor": 2
}
